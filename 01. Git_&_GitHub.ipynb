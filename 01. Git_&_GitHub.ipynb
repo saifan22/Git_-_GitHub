{
 "cells": [
  {
   "cell_type": "markdown",
   "metadata": {},
   "source": [
    "# Topics To be covered\n",
    "    Git & Git hub\n",
    "    What is VCS?\n",
    "    What is Git and Github?\n",
    "    What is DVCS?\n",
    "    Why do we need Git and Git hub?\n",
    "    Set up, clone, add, commit, push, pull,\n",
    "    Why we use OS and Programming Language? \n",
    "    High Level vs Low Level Programming Language \n",
    "    Why are we Learning Python?\n",
    "    Compiler vs Interpreter\n",
    "    Compiled vs Interpreted Languages\n",
    "    Different Types of Errors in Python\n",
    "    Compile time vs Run time Errors in Python \n",
    "    Source code, Byte code, Machine code\n",
    "    How a Python Program runs on our system."
   ]
  },
  {
   "cell_type": "code",
   "execution_count": null,
   "metadata": {},
   "outputs": [],
   "source": [
    "Git \n",
    "# Is a version control system\n",
    "\n",
    "Why VCS?\n",
    "# Backup/Archive\n",
    "# Versoning/History\n",
    "# Undo changes\n",
    "# Comparing\n",
    "# Collaboration/Teamwork\n",
    "# Learning moment\n",
    "# isolation of changes\n",
    "# Experimentation\n",
    "# Context switching\n",
    "# Code review\n",
    "\n",
    "\n",
    "Who need Source control?\n",
    "# Software Developers/Engineers/Programmers\n",
    "#     Source code(Java, C++, Objective-C, Ruby, Python, Perl etc)\n",
    "#     Models(UML, ERB)\n",
    "#     SQL, Configuration, Text files\n",
    "\n",
    "# Freelancers\n",
    "#     Same as above\n",
    "\n",
    "# Web Designers\n",
    "#     Mockuos, Website Assets(Pages, Images)\n",
    "\n",
    "# Graphic Artists\n",
    "#     Original Arts, Vector Graphics, Photoshop Files\n",
    "\n",
    "# Share Code/Open Source\n"
   ]
  },
  {
   "cell_type": "code",
   "execution_count": null,
   "metadata": {},
   "outputs": [],
   "source": [
    "Git hub\n",
    "I a cloud repository which implements git"
   ]
  },
  {
   "cell_type": "code",
   "execution_count": null,
   "metadata": {},
   "outputs": [],
   "source": [
    "# Two main types:-\n",
    "#     Centralized\n",
    "#     Decentralized/Distributed\n",
    "\n",
    "# Centralized:-\n",
    "#     Free:-Subversion, CVS\n",
    "#     Commercial:- Clear Case, Perforce, Team Foundation Server(TFS)\n",
    "#     Required connection to central server for most operations\n",
    "\n",
    "# Distributed:-\n",
    "#     Mercurial\n",
    "#     Git\n",
    "#     Most Operations are local\n",
    "#     Central Server not required"
   ]
  },
  {
   "cell_type": "code",
   "execution_count": null,
   "metadata": {},
   "outputs": [],
   "source": [
    "Why Git?\n",
    "# Distributed Source Control System\n",
    "#     Not required to be decentralized\n",
    "# Massively Scales\n",
    "# Open Source\n",
    "# Developed for Linux Project requirements\n",
    "# Most operations are local\n",
    "# very fast\n",
    "# free and open source\n",
    "# Active community\n",
    "# Most popular DVCS, VCS - git"
   ]
  },
  {
   "cell_type": "code",
   "execution_count": null,
   "metadata": {},
   "outputs": [],
   "source": [
    "# Repository contain files, history, config managed by git.\n",
    "#     Repository also contains any history of changes and configuration changes.\n",
    "#     It contains all the files related to any project or application.\n",
    "\n",
    "\n",
    "# Three states of git\n",
    "#     Working Directory\n",
    "#     Staging area\n",
    "#     Repository(.git folder)\n",
    "\n",
    "# Remote Repository\n",
    "\n",
    "# Master branch - timelines that control your changes"
   ]
  },
  {
   "cell_type": "code",
   "execution_count": null,
   "metadata": {},
   "outputs": [],
   "source": [
    "# Os Commands:-\n",
    "pwd -> Present Working directory\n",
    "ls -> lists all files and folders in currnet directory\n",
    "ls -al -> lists all files and folders in currnet directory including hiiden files\n",
    "cd .. -> Move one directory back\n",
    "cd Directory_Name/Path -> Move to Specified directory availbale in CWD\n",
    "mkdir Directory_Name -> Creates a directory with specified name\n",
    "mv 'src directory name' 'dst directory name' - moves\n",
    "rmdir Dir_name - removes directory\n",
    "\n",
    "\n",
    "# Git Commands:-\n",
    "For set up\n",
    "git config --global user.name 'Abhishek Gupta'\n",
    "git config --global user.email 'abhi.gupat@gmail.com'\n",
    "git config --global core.autocrlf true(Win)/input(Mac)\n",
    "git config --global --list\n",
    "\n",
    "\n",
    "git clone Repo_link -> Clones the repository from cloud to your local system\n",
    "git status - to check the status of the repo\n",
    "git add Dir_name/FileName_with_Extension - Move the file to staging area\n",
    "git commit - m 'msg' - move the file to local repo with the msg\n",
    "git push - push the code to cloud repo (Will ask for credentail while doing first time)\n",
    "gil pull - pulling all the changes from your cloud repo to local repo\n",
    "\n",
    "\n",
    "# File realted operation\n",
    "To open a file from CLI - vim filename.ext\n",
    "to go into insert mode - press 'i'\n",
    "to save and exit - press - 'esc' + :wq\n",
    "\n",
    "\n",
    "\n",
    "\n"
   ]
  },
  {
   "cell_type": "code",
   "execution_count": null,
   "metadata": {},
   "outputs": [],
   "source": [
    "# Why we use OS and Programming Language? \n",
    "# High Level vs Low Level Programming Language \n",
    "# Why are we Learning Python?"
   ]
  },
  {
   "cell_type": "code",
   "execution_count": null,
   "metadata": {},
   "outputs": [],
   "source": [
    "Why we need OS and Different Programming Languages?"
   ]
  },
  {
   "cell_type": "code",
   "execution_count": null,
   "metadata": {},
   "outputs": [],
   "source": [
    "# High Level - C,C++, Java, Python etc\n",
    "# vs Low Level Programming Language - Machine code, Assembly code etc"
   ]
  },
  {
   "cell_type": "code",
   "execution_count": null,
   "metadata": {},
   "outputs": [],
   "source": [
    "# vs Low Level Programming Language - Machine code(0 & 1), Assembly code etc\n",
    "# Performance is best\n",
    "# Maintenance is worst\n",
    "# More Development time may require"
   ]
  },
  {
   "cell_type": "code",
   "execution_count": null,
   "metadata": {},
   "outputs": [],
   "source": [
    "# High Level Programming language\n",
    "# Performance is better\n",
    "# Maintenance is good\n",
    "# Less Development time may require"
   ]
  },
  {
   "cell_type": "code",
   "execution_count": 14,
   "metadata": {
    "ExecuteTime": {
     "end_time": "2020-11-07T10:29:07.947157Z",
     "start_time": "2020-11-07T10:29:07.935248Z"
    }
   },
   "outputs": [
    {
     "name": "stdout",
     "output_type": "stream",
     "text": [
      "28 <class 'int'>\n",
      "52 <class 'int'>\n",
      "<class 'float'>\n"
     ]
    }
   ],
   "source": [
    "# Why Python\n",
    "\n",
    "# Why Python when compared with C/C++/Java other\n",
    "# 1. Python is easy to use & learn, simple and expressive language.\n",
    "# Syntaxes\n",
    "\n",
    "# Sample java code to add two numbers\n",
    "# public class AddTwoNumbers {\n",
    "\n",
    "#    public static void main(String[] args) {\n",
    "        \n",
    "#       int num1 = 5, num2 = 15, sum;\n",
    "#       sum = num1 + num2;\n",
    "\n",
    "#       System.out.println(\"Sum of these numbers: \"+sum);\n",
    "#    }\n",
    "# }\n",
    "\n",
    "# Sample python code to addtwo numbers\n",
    "# a, b = 10,20\n",
    "# c = a+b\n",
    "# print(c)\n",
    "\n",
    "# Python is Dynamically typed Programming langauge - Runtime\n",
    "\n",
    "# Compile time - C,C++,Java etc - Compilation step - Statically type\n",
    "\n",
    "# Sample java code to add two numbers\n",
    "# public class AddTwoNumbers {\n",
    "\n",
    "#    public static void main(String[] args) {\n",
    "        \n",
    "#       int num1 = 5;\n",
    "#       float num2 = 15;\n",
    "#       float sum;\n",
    "#       sum = num1 + num2;\n",
    "\n",
    "#       System.out.println(\"Sum of these numbers: \"+sum);\n",
    "#    }\n",
    "# }\n",
    "\n",
    "# Run time - Python, Perl, Javascript etc - Running the code directly - Dynaically typed\n",
    "import sys\n",
    "# a, b = 10,20.30\n",
    "# print(type(a), type(b))\n",
    "# print(sys.getsizeof(a))\n",
    "# print(sys.getsizeof(b))\n",
    "# c = a+b\n",
    "# print(c)\n",
    "\n",
    "\n"
   ]
  },
  {
   "cell_type": "code",
   "execution_count": 11,
   "metadata": {
    "ExecuteTime": {
     "end_time": "2020-11-07T10:24:51.008237Z",
     "start_time": "2020-11-07T10:24:48.886555Z"
    }
   },
   "outputs": [
    {
     "name": "stdout",
     "output_type": "stream",
     "text": [
      "Enter a number: 10.20\n",
      "10.2 <class 'float'>\n"
     ]
    }
   ],
   "source": [
    "\n"
   ]
  },
  {
   "cell_type": "code",
   "execution_count": 7,
   "metadata": {
    "ExecuteTime": {
     "end_time": "2020-11-07T10:23:39.890702Z",
     "start_time": "2020-11-07T10:23:39.879095Z"
    }
   },
   "outputs": [
    {
     "ename": "ValueError",
     "evalue": "invalid literal for int() with base 10: '10.20'",
     "output_type": "error",
     "traceback": [
      "\u001b[0;31m---------------------------------------------------------------------------\u001b[0m",
      "\u001b[0;31mValueError\u001b[0m                                Traceback (most recent call last)",
      "\u001b[0;32m<ipython-input-7-62f85e6eb47d>\u001b[0m in \u001b[0;36m<module>\u001b[0;34m\u001b[0m\n\u001b[0;32m----> 1\u001b[0;31m \u001b[0mint\u001b[0m\u001b[0;34m(\u001b[0m\u001b[0;34m'10.20'\u001b[0m\u001b[0;34m)\u001b[0m\u001b[0;34m\u001b[0m\u001b[0;34m\u001b[0m\u001b[0m\n\u001b[0m",
      "\u001b[0;31mValueError\u001b[0m: invalid literal for int() with base 10: '10.20'"
     ]
    }
   ],
   "source": []
  },
  {
   "cell_type": "code",
   "execution_count": 8,
   "metadata": {
    "ExecuteTime": {
     "end_time": "2020-11-07T10:23:49.303995Z",
     "start_time": "2020-11-07T10:23:49.294318Z"
    }
   },
   "outputs": [
    {
     "data": {
      "text/plain": [
       "10"
      ]
     },
     "execution_count": 8,
     "metadata": {},
     "output_type": "execute_result"
    }
   ],
   "source": []
  },
  {
   "cell_type": "code",
   "execution_count": null,
   "metadata": {},
   "outputs": [],
   "source": []
  },
  {
   "cell_type": "code",
   "execution_count": null,
   "metadata": {},
   "outputs": [],
   "source": []
  },
  {
   "cell_type": "code",
   "execution_count": null,
   "metadata": {},
   "outputs": [],
   "source": []
  },
  {
   "cell_type": "code",
   "execution_count": null,
   "metadata": {},
   "outputs": [],
   "source": []
  },
  {
   "cell_type": "code",
   "execution_count": null,
   "metadata": {},
   "outputs": [],
   "source": []
  },
  {
   "cell_type": "code",
   "execution_count": null,
   "metadata": {},
   "outputs": [],
   "source": []
  },
  {
   "cell_type": "code",
   "execution_count": null,
   "metadata": {},
   "outputs": [],
   "source": []
  },
  {
   "cell_type": "code",
   "execution_count": null,
   "metadata": {},
   "outputs": [],
   "source": []
  },
  {
   "cell_type": "code",
   "execution_count": null,
   "metadata": {},
   "outputs": [],
   "source": []
  },
  {
   "cell_type": "code",
   "execution_count": null,
   "metadata": {},
   "outputs": [],
   "source": []
  },
  {
   "cell_type": "code",
   "execution_count": null,
   "metadata": {},
   "outputs": [],
   "source": []
  },
  {
   "cell_type": "code",
   "execution_count": null,
   "metadata": {},
   "outputs": [],
   "source": []
  }
 ],
 "metadata": {
  "kernelspec": {
   "display_name": "Python 3",
   "language": "python",
   "name": "python3"
  },
  "language_info": {
   "codemirror_mode": {
    "name": "ipython",
    "version": 3
   },
   "file_extension": ".py",
   "mimetype": "text/x-python",
   "name": "python",
   "nbconvert_exporter": "python",
   "pygments_lexer": "ipython3",
   "version": "3.8.3"
  },
  "varInspector": {
   "cols": {
    "lenName": 16,
    "lenType": 16,
    "lenVar": 40
   },
   "kernels_config": {
    "python": {
     "delete_cmd_postfix": "",
     "delete_cmd_prefix": "del ",
     "library": "var_list.py",
     "varRefreshCmd": "print(var_dic_list())"
    },
    "r": {
     "delete_cmd_postfix": ") ",
     "delete_cmd_prefix": "rm(",
     "library": "var_list.r",
     "varRefreshCmd": "cat(var_dic_list()) "
    }
   },
   "types_to_exclude": [
    "module",
    "function",
    "builtin_function_or_method",
    "instance",
    "_Feature"
   ],
   "window_display": false
  }
 },
 "nbformat": 4,
 "nbformat_minor": 2
}
